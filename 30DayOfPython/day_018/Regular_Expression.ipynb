{
 "cells": [
  {
   "attachments": {},
   "cell_type": "markdown",
   "metadata": {},
   "source": [
    "Day 18 : Thirty Days of Python Programming\n",
    "Exercises: Day 18\n",
    "# importing required libraries\n"
   ]
  },
  {
   "cell_type": "code",
   "execution_count": null,
   "metadata": {},
   "outputs": [],
   "source": [
    "import re"
   ]
  },
  {
   "attachments": {},
   "cell_type": "markdown",
   "metadata": {},
   "source": [
    "Exercises: Level 1\n",
    "Question 1"
   ]
  },
  {
   "cell_type": "code",
   "execution_count": 14,
   "metadata": {},
   "outputs": [
    {
     "data": {
      "text/plain": [
       "('love', 6)"
      ]
     },
     "execution_count": 14,
     "metadata": {},
     "output_type": "execute_result"
    }
   ],
   "source": [
    "'''What is the most frequent word in the following paragraph?'''\n",
    "paragraph = 'I love teaching. If you do not love teaching what else can you love. I love Python if you do not love something which can give you all the capabilities to develop an application what else can you love'\n",
    "words = paragraph.replace('.','').split(' ')\n",
    "dict = {}\n",
    "for word in words:\n",
    "    dict[word] = dict.get(word,0) + 1\n",
    "sort_keysval = sorted(dict.items(),key = lambda x:x[1], reverse=True)\n",
    "sort_keysval[0]"
   ]
  },
  {
   "attachments": {},
   "cell_type": "markdown",
   "metadata": {},
   "source": [
    "Question 2"
   ]
  },
  {
   "cell_type": "code",
   "execution_count": 6,
   "metadata": {},
   "outputs": [
    {
     "name": "stdout",
     "output_type": "stream",
     "text": [
      "['-1', '2', '-4', '-3', '-1', '0', '4', '8']\n",
      "The distance between the two furthest particles is 12 \n"
     ]
    }
   ],
   "source": [
    "'''The position of some particles on the horizontal x-axis are -12, -4, -3 and -1 in the negative direction,\n",
    "0 at origin, 4 and 8 in the positive direction. Extract these numbers from this whole text and find the distance \n",
    "between the two furthest particles.\n",
    "points = ['-1', '2', '-4', '-3', '-1', '0', '4', '8']\n",
    "sorted_points =  [-4, -3, -1, -1, 0, 2, 4, 8]\n",
    "distance = 8 -(-4) # 12  '''\n",
    "string = 'The position of some particles on the horizontal x-axis are -12, -4, -3 and -1 in the negative direction, 0 at origin, 4 and 8 in the positive direction. Extract these numbers from this whole text and find the distance between the two furthest particles.'\n",
    "regex= r'-\\d|\\d'\n",
    "points = re.findall(regex,string)\n",
    "print(points)   # ['-1', '-1', '-3', '-4', '0', '2', '4', '8']\n",
    "points.sort()\n",
    "# Getting the numbers as integers from strings\n",
    "numbers = [int(i) for i in points]\n",
    "numbers.sort()  # sorting from highest to lowest\n",
    "distance = numbers[-1] - numbers[0]\n",
    "print(f'The distance between the two furthest particles is {distance} ') "
   ]
  },
  {
   "attachments": {},
   "cell_type": "markdown",
   "metadata": {},
   "source": [
    "Exercises: Level 2"
   ]
  },
  {
   "cell_type": "code",
   "execution_count": 16,
   "metadata": {},
   "outputs": [
    {
     "name": "stdout",
     "output_type": "stream",
     "text": [
      "True\n",
      "False\n",
      "False\n",
      "True\n"
     ]
    }
   ],
   "source": [
    "'''Write a pattern which identifies if a string is a valid python variable\n",
    "is_valid_variable('first_name') # True\n",
    "is_valid_variable('first-name') # False\n",
    "is_valid_variable('1first_name') # False\n",
    "is_valid_variable('firstname') # Tru   '''\n",
    "pattern = r\"^[_a-z]\\w*$\"\n",
    "def is_valid_variable(name):\n",
    "    '''Identify if a string is a valid Python variable'''\n",
    "    pattern = r\"^[_a-z]\\w*$\"\n",
    "    if not re.match(pattern,name):\n",
    "        print(False)\n",
    "    else:\n",
    "        print(True)\n",
    "is_valid_variable('first_name') \n",
    "is_valid_variable('first-name') \n",
    "is_valid_variable('1first_name') \n",
    "is_valid_variable('firstname') "
   ]
  },
  {
   "attachments": {},
   "cell_type": "markdown",
   "metadata": {},
   "source": [
    "# Exercises: Level 3\n"
   ]
  },
  {
   "cell_type": "code",
   "execution_count": 10,
   "metadata": {},
   "outputs": [
    {
     "data": {
      "text/plain": [
       "[(3, 'I'), (2, 'teaching'), (2, 'teacher')]"
      ]
     },
     "execution_count": 10,
     "metadata": {},
     "output_type": "execute_result"
    }
   ],
   "source": [
    "#Clean the following text. After cleaning, count three most frequent words in the string.\n",
    "#sentence = '''%I $am@% a %tea@cher%, &and& I lo%#ve %tea@ching%;. There $is nothing; &as& mo@re rewarding as educa@ting &and& @emp%o@wering peo@ple. ;I found tea@ching m%o@re interesting tha@n any other %jo@bs. %Do@es thi%s mo@tivate yo@u to be a tea@cher!?'''\n",
    "\n",
    "#print(clean_text(sentence));\n",
    "#I am a teacher and I love teaching There is nothing as more rewarding as educating and empowering people I found teaching more interesting than any other jobs Does this motivate you to be a teacher\n",
    "#print(most_frequent_words(cleaned_text)) # [(3, 'I'), (2, 'teaching'), (2, 'teacher')]\n",
    "sentence = '''%I $am@% a %tea@cher%, &and& I lo%#ve %tea@ching%;. There $is nothing; &as& mo@re rewarding as educa@ting &and& @emp%o@wering peo@ple. ;I found tea@ching m%o@re interesting tha@n any other %jo@bs. %Do@es thi%s mo@tivate yo@u to be a tea@cher!?'''\n",
    "pattern = r'[^\\w\\s]'\n",
    "clean_sentence = re.sub(pattern,'',sentence)\n",
    "\n",
    "def most_frequent_words(text):\n",
    "    '''Returns the three most frequent words in clean sentences i.e. sentences without punctuation marks.\n",
    "    '''\n",
    "    words = text.split()\n",
    "    d = {}\n",
    "    for word in words:\n",
    "        d[word] = d.get(word,0) + 1\n",
    "    list = [(val,key) for key,val in d.items()]\n",
    "    list.sort(reverse=True)\n",
    "    return list[:3]\n",
    "most_frequent_words(clean_sentence)\n",
    "[(3, 'I'), (2, 'teaching'), (2, 'teacher')]"
   ]
  }
 ],
 "metadata": {
  "kernelspec": {
   "display_name": "Python 3",
   "language": "python",
   "name": "python3"
  },
  "language_info": {
   "codemirror_mode": {
    "name": "ipython",
    "version": 3
   },
   "file_extension": ".py",
   "mimetype": "text/x-python",
   "name": "python",
   "nbconvert_exporter": "python",
   "pygments_lexer": "ipython3",
   "version": "3.11.1"
  },
  "orig_nbformat": 4,
  "vscode": {
   "interpreter": {
    "hash": "b98f472bb8ba48098397e3b897b5be76f7bf0e62d98845cdb0e8066dc5677259"
   }
  }
 },
 "nbformat": 4,
 "nbformat_minor": 2
}
