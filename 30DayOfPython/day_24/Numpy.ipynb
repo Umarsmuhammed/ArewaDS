{
 "cells": [
  {
   "attachments": {},
   "cell_type": "markdown",
   "metadata": {},
   "source": [
    "Day 24: Thirty Days of Python Programming\n",
    "\n",
    "Exercises: Day 24\n",
    "\n",
    "In todays Exercises we are to repeat all the examples"
   ]
  },
  {
   "cell_type": "code",
   "execution_count": 117,
   "metadata": {},
   "outputs": [
    {
     "name": "stdout",
     "output_type": "stream",
     "text": [
      "numpy version:  1.24.2\n",
      "['ALLOW_THREADS', 'AxisError', 'BUFSIZE', 'CLIP', 'ComplexWarning', 'DataSource', 'ERR_CALL', 'ERR_DEFAULT', 'ERR_IGNORE', 'ERR_LOG', 'ERR_PRINT', 'ERR_RAISE', 'ERR_WARN', 'FLOATING_POINT_SUPPORT', 'FPE_DIVIDEBYZERO', 'FPE_INVALID', 'FPE_OVERFLOW', 'FPE_UNDERFLOW', 'False_', 'Inf', 'Infinity', 'MAXDIMS', 'MAY_SHARE_BOUNDS', 'MAY_SHARE_EXACT', 'ModuleDeprecationWarning', 'NAN', 'NINF', 'NZERO', 'NaN', 'PINF', 'PZERO', 'RAISE', 'RankWarning', 'SHIFT_DIVIDEBYZERO', 'SHIFT_INVALID', 'SHIFT_OVERFLOW', 'SHIFT_UNDERFLOW', 'ScalarType', 'Tester', 'TooHardError', 'True_', 'UFUNC_BUFSIZE_DEFAULT', 'UFUNC_PYVALS_NAME', 'VisibleDeprecationWarning', 'WRAP', '_CopyMode', '_NoValue', '_UFUNC_API', '__NUMPY_SETUP__', '__all__', '__builtins__', '__cached__', '__config__', '__deprecated_attrs__', '__dir__', '__doc__', '__expired_functions__', '__file__', '__former_attrs__', '__future_scalars__', '__getattr__', '__git_version__', '__loader__', '__name__', '__package__', '__path__', '__spec__', '__version__', '_add_newdoc_ufunc', '_builtins', '_distributor_init', '_financial_names', '_get_promotion_state', '_globals', '_int_extended_msg', '_mat', '_no_nep50_warning', '_pyinstaller_hooks_dir', '_pytesttester', '_set_promotion_state', '_specific_msg', '_version', 'abs', 'absolute', 'add', 'add_docstring', 'add_newdoc', 'add_newdoc_ufunc', 'all', 'allclose', 'alltrue', 'amax', 'amin', 'angle', 'any', 'append', 'apply_along_axis', 'apply_over_axes', 'arange', 'arccos', 'arccosh', 'arcsin', 'arcsinh', 'arctan', 'arctan2', 'arctanh', 'argmax', 'argmin', 'argpartition', 'argsort', 'argwhere', 'around', 'array', 'array2string', 'array_equal', 'array_equiv', 'array_repr', 'array_split', 'array_str', 'asanyarray', 'asarray', 'asarray_chkfinite', 'ascontiguousarray', 'asfarray', 'asfortranarray', 'asmatrix', 'atleast_1d', 'atleast_2d', 'atleast_3d', 'average', 'bartlett', 'base_repr', 'binary_repr', 'bincount', 'bitwise_and', 'bitwise_not', 'bitwise_or', 'bitwise_xor', 'blackman', 'block', 'bmat', 'bool_', 'broadcast', 'broadcast_arrays', 'broadcast_shapes', 'broadcast_to', 'busday_count', 'busday_offset', 'busdaycalendar', 'byte', 'byte_bounds', 'bytes_', 'c_', 'can_cast', 'cast', 'cbrt', 'cdouble', 'ceil', 'cfloat', 'char', 'character', 'chararray', 'choose', 'clip', 'clongdouble', 'clongfloat', 'column_stack', 'common_type', 'compare_chararrays', 'compat', 'complex128', 'complex64', 'complex_', 'complexfloating', 'compress', 'concatenate', 'conj', 'conjugate', 'convolve', 'copy', 'copysign', 'copyto', 'corrcoef', 'correlate', 'cos', 'cosh', 'count_nonzero', 'cov', 'cross', 'csingle', 'ctypeslib', 'cumprod', 'cumproduct', 'cumsum', 'datetime64', 'datetime_as_string', 'datetime_data', 'deg2rad', 'degrees', 'delete', 'deprecate', 'deprecate_with_doc', 'diag', 'diag_indices', 'diag_indices_from', 'diagflat', 'diagonal', 'diff', 'digitize', 'disp', 'divide', 'divmod', 'dot', 'double', 'dsplit', 'dstack', 'dtype', 'e', 'ediff1d', 'einsum', 'einsum_path', 'emath', 'empty', 'empty_like', 'equal', 'errstate', 'euler_gamma', 'exp', 'exp2', 'expand_dims', 'expm1', 'extract', 'eye', 'fabs', 'fastCopyAndTranspose', 'fft', 'fill_diagonal', 'find_common_type', 'finfo', 'fix', 'flatiter', 'flatnonzero', 'flexible', 'flip', 'fliplr', 'flipud', 'float16', 'float32', 'float64', 'float_', 'float_power', 'floating', 'floor', 'floor_divide', 'fmax', 'fmin', 'fmod', 'format_float_positional', 'format_float_scientific', 'format_parser', 'frexp', 'from_dlpack', 'frombuffer', 'fromfile', 'fromfunction', 'fromiter', 'frompyfunc', 'fromregex', 'fromstring', 'full', 'full_like', 'gcd', 'generic', 'genfromtxt', 'geomspace', 'get_array_wrap', 'get_include', 'get_printoptions', 'getbufsize', 'geterr', 'geterrcall', 'geterrobj', 'gradient', 'greater', 'greater_equal', 'half', 'hamming', 'hanning', 'heaviside', 'histogram', 'histogram2d', 'histogram_bin_edges', 'histogramdd', 'hsplit', 'hstack', 'hypot', 'i0', 'identity', 'iinfo', 'imag', 'in1d', 'index_exp', 'indices', 'inexact', 'inf', 'info', 'infty', 'inner', 'insert', 'int16', 'int32', 'int64', 'int8', 'int_', 'intc', 'integer', 'interp', 'intersect1d', 'intp', 'invert', 'is_busday', 'isclose', 'iscomplex', 'iscomplexobj', 'isfinite', 'isfortran', 'isin', 'isinf', 'isnan', 'isnat', 'isneginf', 'isposinf', 'isreal', 'isrealobj', 'isscalar', 'issctype', 'issubclass_', 'issubdtype', 'issubsctype', 'iterable', 'ix_', 'kaiser', 'kron', 'lcm', 'ldexp', 'left_shift', 'less', 'less_equal', 'lexsort', 'lib', 'linalg', 'linspace', 'little_endian', 'load', 'loadtxt', 'log', 'log10', 'log1p', 'log2', 'logaddexp', 'logaddexp2', 'logical_and', 'logical_not', 'logical_or', 'logical_xor', 'logspace', 'longcomplex', 'longdouble', 'longfloat', 'longlong', 'lookfor', 'ma', 'mask_indices', 'mat', 'math', 'matmul', 'matrix', 'max', 'maximum', 'maximum_sctype', 'may_share_memory', 'mean', 'median', 'memmap', 'meshgrid', 'mgrid', 'min', 'min_scalar_type', 'minimum', 'mintypecode', 'mod', 'modf', 'moveaxis', 'msort', 'multiply', 'nan', 'nan_to_num', 'nanargmax', 'nanargmin', 'nancumprod', 'nancumsum', 'nanmax', 'nanmean', 'nanmedian', 'nanmin', 'nanpercentile', 'nanprod', 'nanquantile', 'nanstd', 'nansum', 'nanvar', 'nbytes', 'ndarray', 'ndenumerate', 'ndim', 'ndindex', 'nditer', 'negative', 'nested_iters', 'newaxis', 'nextafter', 'nonzero', 'not_equal', 'numarray', 'number', 'obj2sctype', 'object_', 'ogrid', 'oldnumeric', 'ones', 'ones_like', 'outer', 'packbits', 'pad', 'partition', 'percentile', 'pi', 'piecewise', 'place', 'poly', 'poly1d', 'polyadd', 'polyder', 'polydiv', 'polyfit', 'polyint', 'polymul', 'polynomial', 'polysub', 'polyval', 'positive', 'power', 'printoptions', 'prod', 'product', 'promote_types', 'ptp', 'put', 'put_along_axis', 'putmask', 'quantile', 'r_', 'rad2deg', 'radians', 'random', 'ravel', 'ravel_multi_index', 'real', 'real_if_close', 'rec', 'recarray', 'recfromcsv', 'recfromtxt', 'reciprocal', 'record', 'remainder', 'repeat', 'require', 'reshape', 'resize', 'result_type', 'right_shift', 'rint', 'roll', 'rollaxis', 'roots', 'rot90', 'round', 'round_', 'row_stack', 's_', 'safe_eval', 'save', 'savetxt', 'savez', 'savez_compressed', 'sctype2char', 'sctypeDict', 'sctypes', 'searchsorted', 'select', 'set_numeric_ops', 'set_printoptions', 'set_string_function', 'setbufsize', 'setdiff1d', 'seterr', 'seterrcall', 'seterrobj', 'setxor1d', 'shape', 'shares_memory', 'short', 'show_config', 'show_runtime', 'sign', 'signbit', 'signedinteger', 'sin', 'sinc', 'single', 'singlecomplex', 'sinh', 'size', 'sometrue', 'sort', 'sort_complex', 'source', 'spacing', 'split', 'sqrt', 'square', 'squeeze', 'stack', 'std', 'str_', 'string_', 'subtract', 'sum', 'swapaxes', 'take', 'take_along_axis', 'tan', 'tanh', 'tensordot', 'test', 'testing', 'tile', 'timedelta64', 'trace', 'tracemalloc_domain', 'transpose', 'trapz', 'tri', 'tril', 'tril_indices', 'tril_indices_from', 'trim_zeros', 'triu', 'triu_indices', 'triu_indices_from', 'true_divide', 'trunc', 'typecodes', 'typename', 'ubyte', 'ufunc', 'uint', 'uint16', 'uint32', 'uint64', 'uint8', 'uintc', 'uintp', 'ulonglong', 'unicode_', 'union1d', 'unique', 'unpackbits', 'unravel_index', 'unsignedinteger', 'unwrap', 'use_hugepage', 'ushort', 'vander', 'var', 'vdot', 'vectorize', 'version', 'void', 'vsplit', 'vstack', 'where', 'who', 'zeros', 'zeros_like']\n"
     ]
    }
   ],
   "source": [
    "# importing numpy\n",
    "import numpy as np\n",
    "# checking the version\n",
    "print('numpy version: ',np.__version__)\n",
    "\n",
    "#checking available method\n",
    "print(dir(np))"
   ]
  },
  {
   "cell_type": "code",
   "execution_count": 118,
   "metadata": {},
   "outputs": [
    {
     "name": "stdout",
     "output_type": "stream",
     "text": [
      "Type python list: <class 'list'>\n",
      "Python list:  [1, 2, 3, 4, 5]\n",
      "two dimensional list:  [[0, 1, 2], [3, 4, 5], [6, 7, 8]]\n",
      "type of numpy array from list:  <class 'numpy.ndarray'>\n",
      "numpy array from list:  [1 2 3 4 5]\n"
     ]
    }
   ],
   "source": [
    "# creating integer numpy arrays\n",
    "# Creating python List\n",
    "python_list = [1,2,3,4,5]\n",
    "\n",
    "# Checking data types\n",
    "print('Type python list:', type (python_list))\n",
    "\n",
    "print('Python list: ',python_list) # [1, 2, 3, 4, 5]\n",
    "\n",
    "two_dimensional_list = [[0,1,2], [3,4,5], [6,7,8]]\n",
    "\n",
    "print('two dimensional list: ',two_dimensional_list) \n",
    "\n",
    "# Creating Numpy(Numerical Python) array from python list\n",
    "\n",
    "numpy_array_from_list = np.array(python_list)\n",
    "print('type of numpy array from list: ',type (numpy_array_from_list))  \n",
    "print('numpy array from list: ',numpy_array_from_list) "
   ]
  },
  {
   "cell_type": "code",
   "execution_count": 119,
   "metadata": {},
   "outputs": [
    {
     "name": "stdout",
     "output_type": "stream",
     "text": [
      "[1. 2. 3. 4. 5.]\n"
     ]
    }
   ],
   "source": [
    "# creating float integer arrays\n",
    "\n",
    "# Python list\n",
    "python_list = [1,2,3,4,5]\n",
    "\n",
    "numpy_array_from_list2 = np.array(python_list, dtype=float)\n",
    "print(numpy_array_from_list2)"
   ]
  },
  {
   "cell_type": "code",
   "execution_count": 120,
   "metadata": {},
   "outputs": [
    {
     "name": "stdout",
     "output_type": "stream",
     "text": [
      "[False  True  True False False]\n"
     ]
    }
   ],
   "source": [
    "# Creating boolean numpy arrays\n",
    "\n",
    "numpy_bool_array = np.array([0, 1, -1, 0, 0], dtype=bool)\n",
    "print(numpy_bool_array)"
   ]
  },
  {
   "cell_type": "code",
   "execution_count": 121,
   "metadata": {},
   "outputs": [
    {
     "name": "stdout",
     "output_type": "stream",
     "text": [
      "<class 'numpy.ndarray'>\n",
      "[[0 1 2]\n",
      " [3 4 5]\n",
      " [6 7 8]]\n"
     ]
    }
   ],
   "source": [
    "# Creating multidimensional arrays using numpy\n",
    "two_dimensional_list = [[0,1,2], [3,4,5], [6,7,8]]\n",
    "numpy_two_dimensional_list = np.array(two_dimensional_list)\n",
    "print(type (numpy_two_dimensional_list))\n",
    "print(numpy_two_dimensional_list)"
   ]
  },
  {
   "cell_type": "code",
   "execution_count": 122,
   "metadata": {},
   "outputs": [
    {
     "name": "stdout",
     "output_type": "stream",
     "text": [
      "<class 'list'>\n",
      "one dimensional array: [1, 2, 3, 4, 5]\n",
      "two dimensional array:  [[0, 1, 2], [3, 4, 5], [6, 7, 8]]\n"
     ]
    }
   ],
   "source": [
    "# Converting numpy array to list\n",
    "# Using tolist() method\n",
    "np_to_list = numpy_array_from_list.tolist()\n",
    "print(type (np_to_list))\n",
    "print('one dimensional array:', np_to_list)\n",
    "print('two dimensional array: ', numpy_two_dimensional_list.tolist())"
   ]
  },
  {
   "cell_type": "code",
   "execution_count": 123,
   "metadata": {},
   "outputs": [
    {
     "name": "stdout",
     "output_type": "stream",
     "text": [
      "<class 'tuple'>\n",
      "python_tuple:  (1, 2, 3, 4, 5)\n",
      "<class 'numpy.ndarray'>\n",
      "numpy_array_from_tuple:  [1 2 3 4 5]\n"
     ]
    }
   ],
   "source": [
    "# Creating numpy array from tuple\n",
    "\n",
    "# Creating tuple in Python\n",
    "python_tuple = (1,2,3,4,5)\n",
    "print(type (python_tuple))\n",
    "print('python_tuple: ', python_tuple)\n",
    "\n",
    "numpy_array_from_tuple = np.array(python_tuple)\n",
    "print(type (numpy_array_from_tuple)) \n",
    "print('numpy_array_from_tuple: ', numpy_array_from_tuple)"
   ]
  },
  {
   "attachments": {},
   "cell_type": "markdown",
   "metadata": {},
   "source": [
    "# Shape of numpy array\n",
    "The shape method provides the shape of the array as a tuple. The first is the row and the second is the column. If the array is just one dimensional it returns the size of the array."
   ]
  },
  {
   "cell_type": "code",
   "execution_count": 124,
   "metadata": {},
   "outputs": [
    {
     "name": "stdout",
     "output_type": "stream",
     "text": [
      "[1 2 3 4 5]\n",
      "shape of nums:  (5,)\n",
      "[[0 1 2]\n",
      " [3 4 5]\n",
      " [6 7 8]]\n",
      "shape of numpy_two_dimensional_list:  (3, 3)\n",
      "(3, 4)\n"
     ]
    }
   ],
   "source": [
    "# Shape of numpy array\n",
    "nums = np.array([1, 2, 3, 4, 5])\n",
    "print(nums)\n",
    "print('shape of nums: ', nums.shape)\n",
    "print(numpy_two_dimensional_list)\n",
    "print('shape of numpy_two_dimensional_list: ', numpy_two_dimensional_list.shape)\n",
    "three_by_four_array = np.array([[0, 1, 2, 3],\n",
    "        [4,5,6,7],\n",
    "        [8,9,10, 11]])\n",
    "print(three_by_four_array.shape)"
   ]
  },
  {
   "cell_type": "code",
   "execution_count": 125,
   "metadata": {},
   "outputs": [
    {
     "name": "stdout",
     "output_type": "stream",
     "text": [
      "[-3 -2 -1  0  1  2  3]\n",
      "int32\n",
      "[-3. -2. -1.  0.  1.  2.  3.]\n",
      "float64\n"
     ]
    }
   ],
   "source": [
    "# Data type of numpy array\n",
    "\n",
    "int_lists = [-3, -2, -1, 0, 1, 2,3]\n",
    "int_array = np.array(int_lists)\n",
    "float_array = np.array(int_lists, dtype=float)\n",
    "\n",
    "print(int_array)\n",
    "print(int_array.dtype)\n",
    "print(float_array)\n",
    "print(float_array.dtype)"
   ]
  },
  {
   "cell_type": "code",
   "execution_count": 126,
   "metadata": {},
   "outputs": [
    {
     "name": "stdout",
     "output_type": "stream",
     "text": [
      "The size: 5\n",
      "The size: 9\n"
     ]
    }
   ],
   "source": [
    "# Size of numpy array: number of items in the array\n",
    "numpy_array_from_list = np.array([1, 2, 3, 4, 5])\n",
    "two_dimensional_list = np.array([[0, 1, 2],\n",
    "                              [3, 4, 5],\n",
    "                              [6, 7, 8]])\n",
    "\n",
    "print('The size:', numpy_array_from_list.size) \n",
    "print('The size:', two_dimensional_list.size) "
   ]
  },
  {
   "attachments": {},
   "cell_type": "markdown",
   "metadata": {},
   "source": [
    "# Mathematical Operations using numpy\n",
    "NumPy arrays are not exactly like python lists. To perform mathematical operations in Python lists, we have to loop through each of the items but numpy can allow perfoming of mathematical operations without looping.\n",
    "\n",
    "Mathematical Operations include:\n",
    "\n",
    "- Addition (+)\n",
    "- Subtraction (-)\n",
    "- Multiplication (*)\n",
    "- Division (/)\n",
    "- Modulus (%)\n",
    "- Floor Division(//)\n",
    "-Exponential(**)"
   ]
  },
  {
   "cell_type": "code",
   "execution_count": 127,
   "metadata": {},
   "outputs": [
    {
     "name": "stdout",
     "output_type": "stream",
     "text": [
      "original array:  [1 2 3 4 5]\n",
      "[11 12 13 14 15]\n"
     ]
    }
   ],
   "source": [
    "# Mathematical Operation\n",
    "# Addition\n",
    "numpy_array_from_list = np.array([1, 2, 3, 4, 5])\n",
    "print('original array: ', numpy_array_from_list)\n",
    "ten_plus_original = numpy_array_from_list  + 10\n",
    "print(ten_plus_original)"
   ]
  },
  {
   "cell_type": "code",
   "execution_count": 128,
   "metadata": {},
   "outputs": [
    {
     "name": "stdout",
     "output_type": "stream",
     "text": [
      "original array:  [1 2 3 4 5]\n",
      "[-9 -8 -7 -6 -5]\n"
     ]
    }
   ],
   "source": [
    "# Subtraction\n",
    "numpy_array_from_list = np.array([1, 2, 3, 4, 5])\n",
    "print('original array: ', numpy_array_from_list)\n",
    "ten_minus_original = numpy_array_from_list  - 10\n",
    "print(ten_minus_original)"
   ]
  },
  {
   "cell_type": "code",
   "execution_count": 129,
   "metadata": {},
   "outputs": [
    {
     "name": "stdout",
     "output_type": "stream",
     "text": [
      "original array:  [1 2 3 4 5]\n",
      "[10 20 30 40 50]\n"
     ]
    }
   ],
   "source": [
    "# Multiplication\n",
    "numpy_array_from_list = np.array([1, 2, 3, 4, 5])\n",
    "print('original array: ', numpy_array_from_list)\n",
    "ten_times_original = numpy_array_from_list * 10\n",
    "print(ten_times_original)"
   ]
  },
  {
   "cell_type": "code",
   "execution_count": 130,
   "metadata": {},
   "outputs": [
    {
     "name": "stdout",
     "output_type": "stream",
     "text": [
      "original array:  [1 2 3 4 5]\n",
      "[0.1 0.2 0.3 0.4 0.5]\n"
     ]
    }
   ],
   "source": [
    "# Division\n",
    "numpy_array_from_list = np.array([1, 2, 3, 4, 5])\n",
    "print('original array: ', numpy_array_from_list)\n",
    "ten_times_original = numpy_array_from_list / 10\n",
    "print(ten_times_original)"
   ]
  },
  {
   "cell_type": "code",
   "execution_count": 131,
   "metadata": {},
   "outputs": [
    {
     "name": "stdout",
     "output_type": "stream",
     "text": [
      "original array:  [1 2 3 4 5]\n",
      "[1 2 0 1 2]\n"
     ]
    }
   ],
   "source": [
    "# Modulus; Finding the remainder\n",
    "numpy_array_from_list = np.array([1, 2, 3, 4, 5])\n",
    "print('original array: ', numpy_array_from_list)\n",
    "ten_times_original = numpy_array_from_list % 3\n",
    "print(ten_times_original)"
   ]
  },
  {
   "cell_type": "code",
   "execution_count": 132,
   "metadata": {},
   "outputs": [
    {
     "name": "stdout",
     "output_type": "stream",
     "text": [
      "original array:  [1 2 3 4 5]\n",
      "[0 0 0 0 0]\n"
     ]
    }
   ],
   "source": [
    "# Floor division: the division result without the remainder\n",
    "numpy_array_from_list = np.array([1, 2, 3, 4, 5])\n",
    "print('original array: ', numpy_array_from_list)\n",
    "ten_times_original = numpy_array_from_list // 10\n",
    "print(ten_times_original)"
   ]
  },
  {
   "cell_type": "code",
   "execution_count": 133,
   "metadata": {},
   "outputs": [
    {
     "name": "stdout",
     "output_type": "stream",
     "text": [
      "original array:  [1 2 3 4 5]\n",
      "[ 1  4  9 16 25]\n"
     ]
    }
   ],
   "source": [
    "# Exponential is finding some number the power of another:\n",
    "numpy_array_from_list = np.array([1, 2, 3, 4, 5])\n",
    "print('original array: ', numpy_array_from_list)\n",
    "ten_times_original = numpy_array_from_list  ** 2\n",
    "print(ten_times_original)"
   ]
  },
  {
   "attachments": {},
   "cell_type": "markdown",
   "metadata": {},
   "source": [
    "# Checking data types"
   ]
  },
  {
   "cell_type": "code",
   "execution_count": 134,
   "metadata": {},
   "outputs": [
    {
     "name": "stdout",
     "output_type": "stream",
     "text": [
      "int32\n",
      "float64\n",
      "bool\n"
     ]
    }
   ],
   "source": [
    "#Int,  Float numbers\n",
    "numpy_int_arr = np.array([1,2,3,4])\n",
    "numpy_float_arr = np.array([1.1, 2.0,3.2])\n",
    "numpy_bool_arr = np.array([-3, -2, 0, 1,2,3], dtype='bool')\n",
    "\n",
    "print(numpy_int_arr.dtype)\n",
    "print(numpy_float_arr.dtype)\n",
    "print(numpy_bool_arr.dtype)"
   ]
  },
  {
   "attachments": {},
   "cell_type": "markdown",
   "metadata": {},
   "source": [
    "Converting types"
   ]
  },
  {
   "cell_type": "code",
   "execution_count": 135,
   "metadata": {},
   "outputs": [
    {
     "data": {
      "text/plain": [
       "array([1., 2., 3., 4.])"
      ]
     },
     "execution_count": 135,
     "metadata": {},
     "output_type": "execute_result"
    }
   ],
   "source": [
    "# int to float\n",
    "numpy_float_arr = np.array([1,2,3,4], dtype = 'float')\n",
    "numpy_float_arr"
   ]
  },
  {
   "cell_type": "code",
   "execution_count": 136,
   "metadata": {},
   "outputs": [
    {
     "data": {
      "text/plain": [
       "array([1, 2, 3, 4])"
      ]
     },
     "execution_count": 136,
     "metadata": {},
     "output_type": "execute_result"
    }
   ],
   "source": [
    "# float to int\n",
    "numpy_int_arr = np.array([1., 2., 3., 4.], dtype = 'int')\n",
    "numpy_int_arr"
   ]
  },
  {
   "cell_type": "code",
   "execution_count": 137,
   "metadata": {},
   "outputs": [
    {
     "data": {
      "text/plain": [
       "array([ True,  True, False,  True,  True,  True])"
      ]
     },
     "execution_count": 137,
     "metadata": {},
     "output_type": "execute_result"
    }
   ],
   "source": [
    "# int to boolean\n",
    "np.array([-3, -2, 0, 1,2,3], dtype='bool')"
   ]
  },
  {
   "cell_type": "code",
   "execution_count": 138,
   "metadata": {},
   "outputs": [
    {
     "data": {
      "text/plain": [
       "array(['1', '2', '3', '4'], dtype='<U11')"
      ]
     },
     "execution_count": 138,
     "metadata": {},
     "output_type": "execute_result"
    }
   ],
   "source": [
    "# int to string\n",
    "\n",
    "numpy_float_arr.astype('int').astype('str')"
   ]
  },
  {
   "cell_type": "code",
   "execution_count": 139,
   "metadata": {},
   "outputs": [
    {
     "name": "stdout",
     "output_type": "stream",
     "text": [
      "<class 'numpy.ndarray'>\n",
      "[[1 2 3]\n",
      " [4 5 6]\n",
      " [7 8 9]]\n",
      "Shape:  (3, 3)\n",
      "Size: 9\n",
      "Data type: int32\n"
     ]
    }
   ],
   "source": [
    "# Multi-dimensional arrays\n",
    "\n",
    "# 2 Dimension Array\n",
    "two_dimension_array = np.array([(1,2,3),(4,5,6), (7,8,9)])\n",
    "print(type (two_dimension_array))\n",
    "print(two_dimension_array)\n",
    "print('Shape: ', two_dimension_array.shape)\n",
    "print('Size:', two_dimension_array.size)\n",
    "print('Data type:', two_dimension_array.dtype)"
   ]
  },
  {
   "attachments": {},
   "cell_type": "markdown",
   "metadata": {},
   "source": [
    "Getting items from a numpy array"
   ]
  },
  {
   "cell_type": "code",
   "execution_count": 140,
   "metadata": {},
   "outputs": [
    {
     "name": "stdout",
     "output_type": "stream",
     "text": [
      "First row: [1 2 3]\n",
      "Second row: [4 5 6]\n",
      "Third row:  [7 8 9]\n"
     ]
    }
   ],
   "source": [
    "# 2 Dimension Array\n",
    "two_dimension_array = np.array([[1,2,3],[4,5,6], [7,8,9]])\n",
    "first_row = two_dimension_array[0]\n",
    "second_row = two_dimension_array[1]\n",
    "third_row = two_dimension_array[2]\n",
    "print('First row:', first_row)\n",
    "print('Second row:', second_row)\n",
    "print('Third row: ', third_row)"
   ]
  },
  {
   "cell_type": "code",
   "execution_count": 141,
   "metadata": {},
   "outputs": [
    {
     "name": "stdout",
     "output_type": "stream",
     "text": [
      "First column: [1 4 7]\n",
      "Second column: [2 5 8]\n",
      "Third column:  [3 6 9]\n",
      "[[1 2 3]\n",
      " [4 5 6]\n",
      " [7 8 9]]\n"
     ]
    }
   ],
   "source": [
    "first_column= two_dimension_array[:,0]\n",
    "second_column = two_dimension_array[:,1]\n",
    "third_column = two_dimension_array[:,2]\n",
    "print('First column:', first_column)\n",
    "print('Second column:', second_column)\n",
    "print('Third column: ', third_column)\n",
    "print(two_dimension_array)"
   ]
  },
  {
   "attachments": {},
   "cell_type": "markdown",
   "metadata": {},
   "source": [
    "# Slicing numpy arrays\n",
    "\n",
    "Similar to slicing Python lists"
   ]
  },
  {
   "cell_type": "code",
   "execution_count": 142,
   "metadata": {},
   "outputs": [
    {
     "name": "stdout",
     "output_type": "stream",
     "text": [
      "[[1 2]\n",
      " [4 5]]\n"
     ]
    }
   ],
   "source": [
    "two_dimension_array = np.array([[1,2,3],[4,5,6], [7,8,9]])\n",
    "first_two_rows_and_columns = two_dimension_array[0:2, 0:2]\n",
    "print(first_two_rows_and_columns)"
   ]
  },
  {
   "cell_type": "code",
   "execution_count": 143,
   "metadata": {},
   "outputs": [
    {
     "data": {
      "text/plain": [
       "array([[1, 2, 3],\n",
       "       [4, 5, 6],\n",
       "       [7, 8, 9]])"
      ]
     },
     "execution_count": 143,
     "metadata": {},
     "output_type": "execute_result"
    }
   ],
   "source": [
    "# Reversing the rows of the array\n",
    "\n",
    "# first making a copy\n",
    "two_dimension_array[::]"
   ]
  },
  {
   "cell_type": "code",
   "execution_count": 144,
   "metadata": {},
   "outputs": [
    {
     "data": {
      "text/plain": [
       "array([[9, 8, 7],\n",
       "       [6, 5, 4],\n",
       "       [3, 2, 1]])"
      ]
     },
     "execution_count": 144,
     "metadata": {},
     "output_type": "execute_result"
    }
   ],
   "source": [
    "# Reversing rows and columns: backwards\n",
    "\n",
    "two_dimension_array = np.array([[1,2,3],[4,5,6], [7,8,9]])\n",
    "two_dimension_array[::-1,::-1]"
   ]
  },
  {
   "attachments": {},
   "cell_type": "markdown",
   "metadata": {},
   "source": [
    "# Representing missing values"
   ]
  },
  {
   "cell_type": "code",
   "execution_count": 145,
   "metadata": {},
   "outputs": [
    {
     "name": "stdout",
     "output_type": "stream",
     "text": [
      "[[1 2 3]\n",
      " [4 5 6]\n",
      " [7 8 9]]\n",
      "[[ 1  2  3]\n",
      " [ 4 55 44]\n",
      " [ 7  8  9]]\n"
     ]
    }
   ],
   "source": [
    "print(two_dimension_array)\n",
    "two_dimension_array[1,1] = 55\n",
    "two_dimension_array[1,2] =44\n",
    "print(two_dimension_array)"
   ]
  },
  {
   "cell_type": "code",
   "execution_count": 146,
   "metadata": {},
   "outputs": [
    {
     "data": {
      "text/plain": [
       "array([[0, 0, 0],\n",
       "       [0, 0, 0],\n",
       "       [0, 0, 0]])"
      ]
     },
     "execution_count": 146,
     "metadata": {},
     "output_type": "execute_result"
    }
   ],
   "source": [
    "# Numpy Zeroes\n",
    "# numpy.zeros(shape, dtype=float, order='C')\n",
    "numpy_zeroes = np.zeros((3,3),dtype=int,order='C')\n",
    "numpy_zeroes"
   ]
  },
  {
   "cell_type": "code",
   "execution_count": 147,
   "metadata": {},
   "outputs": [
    {
     "name": "stdout",
     "output_type": "stream",
     "text": [
      "[[1 1 1]\n",
      " [1 1 1]\n",
      " [1 1 1]]\n"
     ]
    }
   ],
   "source": [
    "# Numpy ones\n",
    "numpy_ones = np.ones((3,3),dtype=int,order='C')\n",
    "print(numpy_ones)"
   ]
  },
  {
   "cell_type": "code",
   "execution_count": 148,
   "metadata": {},
   "outputs": [
    {
     "data": {
      "text/plain": [
       "array([[2, 2, 2],\n",
       "       [2, 2, 2],\n",
       "       [2, 2, 2]])"
      ]
     },
     "execution_count": 148,
     "metadata": {},
     "output_type": "execute_result"
    }
   ],
   "source": [
    "twos = numpy_ones * 2\n",
    "twos"
   ]
  },
  {
   "cell_type": "code",
   "execution_count": 149,
   "metadata": {},
   "outputs": [
    {
     "name": "stdout",
     "output_type": "stream",
     "text": [
      "[[1 2 3]\n",
      " [4 5 6]]\n",
      "[[1 2]\n",
      " [3 4]\n",
      " [5 6]]\n"
     ]
    }
   ],
   "source": [
    "# Reshape\n",
    "# numpy.reshape(), numpy.flatten()\n",
    "first_shape  = np.array([(1,2,3), (4,5,6)])\n",
    "print(first_shape)\n",
    "reshaped = first_shape.reshape(3,2)\n",
    "print(reshaped)"
   ]
  },
  {
   "cell_type": "code",
   "execution_count": 150,
   "metadata": {},
   "outputs": [
    {
     "data": {
      "text/plain": [
       "array([1, 2, 3, 4, 5, 6])"
      ]
     },
     "execution_count": 150,
     "metadata": {},
     "output_type": "execute_result"
    }
   ],
   "source": [
    "flattened = reshaped.flatten()\n",
    "flattened"
   ]
  },
  {
   "cell_type": "code",
   "execution_count": 151,
   "metadata": {},
   "outputs": [
    {
     "name": "stdout",
     "output_type": "stream",
     "text": [
      "[5 7 9]\n",
      "Horizontal Append: [1 2 3 4 5 6]\n"
     ]
    }
   ],
   "source": [
    "## Horitzontal Stack\n",
    "np_list_one = np.array([1,2,3])\n",
    "np_list_two = np.array([4,5,6])\n",
    "\n",
    "print(np_list_one + np_list_two)\n",
    "print('Horizontal Append:', np.hstack((np_list_one, np_list_two)))"
   ]
  },
  {
   "cell_type": "code",
   "execution_count": 152,
   "metadata": {},
   "outputs": [
    {
     "name": "stdout",
     "output_type": "stream",
     "text": [
      "Vertical Append: [[1 2 3]\n",
      " [4 5 6]]\n"
     ]
    }
   ],
   "source": [
    "## Vertical Stack\n",
    "print('Vertical Append:', np.vstack((np_list_one, np_list_two)))"
   ]
  },
  {
   "attachments": {},
   "cell_type": "markdown",
   "metadata": {},
   "source": [
    "# Generating random numbers"
   ]
  },
  {
   "cell_type": "code",
   "execution_count": 153,
   "metadata": {},
   "outputs": [
    {
     "data": {
      "text/plain": [
       "0.8869125478468908"
      ]
     },
     "execution_count": 153,
     "metadata": {},
     "output_type": "execute_result"
    }
   ],
   "source": [
    "# Generate a random float  number\n",
    "random_float = np.random.random()\n",
    "random_float"
   ]
  },
  {
   "cell_type": "code",
   "execution_count": 154,
   "metadata": {},
   "outputs": [
    {
     "data": {
      "text/plain": [
       "array([0.08487185, 0.36041251, 0.91184927, 0.49909914, 0.01332594])"
      ]
     },
     "execution_count": 154,
     "metadata": {},
     "output_type": "execute_result"
    }
   ],
   "source": [
    "# Generate multiple random float  numbers\n",
    "random_floats = np.random.random(5)\n",
    "random_floats"
   ]
  },
  {
   "cell_type": "code",
   "execution_count": 155,
   "metadata": {},
   "outputs": [
    {
     "data": {
      "text/plain": [
       "8"
      ]
     },
     "execution_count": 155,
     "metadata": {},
     "output_type": "execute_result"
    }
   ],
   "source": [
    "# Generating a random integer between 0 and 10\n",
    "\n",
    "random_int = np.random.randint(0, 11)\n",
    "random_int"
   ]
  },
  {
   "cell_type": "code",
   "execution_count": 156,
   "metadata": {},
   "outputs": [
    {
     "data": {
      "text/plain": [
       "array([7, 8, 7, 7])"
      ]
     },
     "execution_count": 156,
     "metadata": {},
     "output_type": "execute_result"
    }
   ],
   "source": [
    "# Generating random integers between 2 and 11, and creating a one row array\n",
    "random_int = np.random.randint(2,10, size=4)\n",
    "random_int"
   ]
  },
  {
   "cell_type": "code",
   "execution_count": 157,
   "metadata": {},
   "outputs": [
    {
     "data": {
      "text/plain": [
       "array([[2, 5, 3],\n",
       "       [6, 4, 9],\n",
       "       [9, 9, 5]])"
      ]
     },
     "execution_count": 157,
     "metadata": {},
     "output_type": "execute_result"
    }
   ],
   "source": [
    "# Generating a random integers between 0 and 10 and creating a 3 by 3 array\n",
    "random_int = np.random.randint(2,10, size=(3,3))\n",
    "random_int"
   ]
  },
  {
   "attachments": {},
   "cell_type": "markdown",
   "metadata": {},
   "source": [
    "# Generating random normals"
   ]
  },
  {
   "cell_type": "code",
   "execution_count": 158,
   "metadata": {},
   "outputs": [
    {
     "data": {
      "text/plain": [
       "array([ 75.76789566,  87.94449092,  67.60058389,  74.38216951,\n",
       "        95.66110064,  75.99591699,  69.04096851,  88.26509892,\n",
       "        79.49782456,  33.80654425,  50.11193278,  63.55531563,\n",
       "        73.95296139,  58.20629713,  73.66387986,  96.4528289 ,\n",
       "        50.15944249,  81.0780586 ,  57.55656504,  73.89658958,\n",
       "        80.57712605,  71.90084488, 122.7075976 ,  93.07946279,\n",
       "        85.68406716,  54.47551257,  72.38323882,  74.49381024,\n",
       "        82.32361551,  69.89268221,  48.78141573,  72.290561  ,\n",
       "        69.02595561,  65.51053314, 108.1772632 ,  54.34196449,\n",
       "       103.46963407,  55.53999324,  71.92480093,  78.08232041,\n",
       "        67.75189965, 110.84235153,  86.71028861, 104.76679028,\n",
       "        74.87223495, 108.52722569,  83.26551645,  76.89862325,\n",
       "        78.22610761,  67.3588233 ,  76.900935  ,  95.30049026,\n",
       "        72.13696663, 103.19660478,  92.85400925, 113.29505682,\n",
       "        50.98194513, 103.04573315, 115.94327486,  56.42650085,\n",
       "        92.57972046,  77.48108079,  73.99176939,  91.30198603,\n",
       "        70.66649791,  69.23464525,  59.62051846,  93.37308628,\n",
       "        80.98142493,  69.91620475,  54.28016469,  54.927356  ,\n",
       "        69.96699714,  89.9462552 ,  60.10638725,  95.64539324,\n",
       "        87.80831407,  88.0080879 ,  93.47349776,  65.20009968])"
      ]
     },
     "execution_count": 158,
     "metadata": {},
     "output_type": "execute_result"
    }
   ],
   "source": [
    "# np.random.normal(mu, sigma, size)\n",
    "normal_array = np.random.normal(79, 15, 80)\n",
    "normal_array"
   ]
  },
  {
   "attachments": {},
   "cell_type": "markdown",
   "metadata": {},
   "source": [
    "# Numpy and Statistics"
   ]
  },
  {
   "cell_type": "code",
   "execution_count": 159,
   "metadata": {},
   "outputs": [
    {
     "data": {
      "text/plain": [
       "(array([1., 0., 0., 0., 0., 0., 0., 0., 1., 3., 0., 4., 2., 2., 2., 0., 1.,\n",
       "        2., 1., 5., 4., 5., 6., 3., 5., 1., 3., 2., 0., 2., 4., 1., 1., 5.,\n",
       "        3., 1., 0., 0., 1., 3., 0., 1., 1., 1., 1., 0., 1., 0., 0., 1.]),\n",
       " array([ 33.80654425,  35.58456531,  37.36258638,  39.14060745,\n",
       "         40.91862851,  42.69664958,  44.47467065,  46.25269172,\n",
       "         48.03071278,  49.80873385,  51.58675492,  53.36477598,\n",
       "         55.14279705,  56.92081812,  58.69883919,  60.47686025,\n",
       "         62.25488132,  64.03290239,  65.81092345,  67.58894452,\n",
       "         69.36696559,  71.14498666,  72.92300772,  74.70102879,\n",
       "         76.47904986,  78.25707093,  80.03509199,  81.81311306,\n",
       "         83.59113413,  85.36915519,  87.14717626,  88.92519733,\n",
       "         90.7032184 ,  92.48123946,  94.25926053,  96.0372816 ,\n",
       "         97.81530266,  99.59332373, 101.3713448 , 103.14936587,\n",
       "        104.92738693, 106.705408  , 108.48342907, 110.26145013,\n",
       "        112.0394712 , 113.81749227, 115.59551334, 117.3735344 ,\n",
       "        119.15155547, 120.92957654, 122.7075976 ]),\n",
       " <BarContainer object of 50 artists>)"
      ]
     },
     "execution_count": 159,
     "metadata": {},
     "output_type": "execute_result"
    },
    {
     "data": {
      "image/png": "[encoded data removed]",
      "text/plain": [
       "<Figure size 640x480 with 1 Axes>"
      ]
     },
     "metadata": {},
     "output_type": "display_data"
    }
   ],
   "source": [
    "import matplotlib.pyplot as plt\n",
    "import seaborn as sns\n",
    "sns.set()\n",
    "plt.hist(normal_array, color=\"grey\", bins=50)"
   ]
  },
  {
   "attachments": {},
   "cell_type": "markdown",
   "metadata": {},
   "source": [
    "# Matrix in Numpy"
   ]
  },
  {
   "cell_type": "code",
   "execution_count": 160,
   "metadata": {},
   "outputs": [
    {
     "data": {
      "text/plain": [
       "matrix([[1., 1., 1., 1.],\n",
       "        [1., 1., 1., 1.],\n",
       "        [1., 1., 1., 1.],\n",
       "        [1., 1., 1., 1.]])"
      ]
     },
     "execution_count": 160,
     "metadata": {},
     "output_type": "execute_result"
    }
   ],
   "source": [
    "four_by_four_matrix = np.matrix(np.ones((4,4), dtype=float))\n",
    "four_by_four_matrix"
   ]
  },
  {
   "cell_type": "code",
   "execution_count": 161,
   "metadata": {},
   "outputs": [
    {
     "data": {
      "text/plain": [
       "matrix([[1., 1., 1., 1.],\n",
       "        [1., 1., 1., 1.],\n",
       "        [2., 2., 2., 2.],\n",
       "        [1., 1., 1., 1.]])"
      ]
     },
     "execution_count": 161,
     "metadata": {},
     "output_type": "execute_result"
    }
   ],
   "source": [
    "np.asarray(four_by_four_matrix)[2] = 2\n",
    "four_by_four_matrix"
   ]
  },
  {
   "attachments": {},
   "cell_type": "markdown",
   "metadata": {},
   "source": [
    "# Numpy numpy.arange()\n",
    "Sometimes, there's a need to create values that are evenly spaced within a defined interval. For instance, values from 1 to 10; numpy.arange() function can be used in such instances."
   ]
  },
  {
   "cell_type": "code",
   "execution_count": 162,
   "metadata": {},
   "outputs": [
    {
     "data": {
      "text/plain": [
       "range(0, 11, 2)"
      ]
     },
     "execution_count": 162,
     "metadata": {},
     "output_type": "execute_result"
    }
   ],
   "source": [
    "# creating list using range(starting, stop, step)\n",
    "lst = range(0, 11, 2)\n",
    "lst"
   ]
  },
  {
   "cell_type": "code",
   "execution_count": 163,
   "metadata": {},
   "outputs": [
    {
     "name": "stdout",
     "output_type": "stream",
     "text": [
      "0\n",
      "2\n",
      "4\n",
      "6\n",
      "8\n",
      "10\n"
     ]
    }
   ],
   "source": [
    "for l in lst:\n",
    "    print(l)"
   ]
  },
  {
   "cell_type": "code",
   "execution_count": 164,
   "metadata": {},
   "outputs": [
    {
     "data": {
      "text/plain": [
       "array([ 0,  1,  2,  3,  4,  5,  6,  7,  8,  9, 10, 11, 12, 13, 14, 15, 16,\n",
       "       17, 18, 19])"
      ]
     },
     "execution_count": 164,
     "metadata": {},
     "output_type": "execute_result"
    }
   ],
   "source": [
    "# Similar to range,  numpy.arange(start, stop, step) is illustrated\n",
    "whole_numbers = np.arange(0, 20, 1)\n",
    "whole_numbers"
   ]
  },
  {
   "cell_type": "code",
   "execution_count": 165,
   "metadata": {},
   "outputs": [
    {
     "data": {
      "text/plain": [
       "array([ 1,  2,  3,  4,  5,  6,  7,  8,  9, 10, 11, 12, 13, 14, 15, 16, 17,\n",
       "       18, 19])"
      ]
     },
     "execution_count": 165,
     "metadata": {},
     "output_type": "execute_result"
    }
   ],
   "source": [
    "natural_numbers = np.arange(1, 20, 1)\n",
    "natural_numbers"
   ]
  },
  {
   "cell_type": "code",
   "execution_count": 166,
   "metadata": {},
   "outputs": [
    {
     "data": {
      "text/plain": [
       "array([ 1,  3,  5,  7,  9, 11, 13, 15, 17, 19])"
      ]
     },
     "execution_count": 166,
     "metadata": {},
     "output_type": "execute_result"
    }
   ],
   "source": [
    "odd_numbers = np.arange(1, 20, 2)\n",
    "odd_numbers"
   ]
  },
  {
   "cell_type": "code",
   "execution_count": 167,
   "metadata": {},
   "outputs": [
    {
     "data": {
      "text/plain": [
       "array([ 2,  4,  6,  8, 10, 12, 14, 16, 18])"
      ]
     },
     "execution_count": 167,
     "metadata": {},
     "output_type": "execute_result"
    }
   ],
   "source": [
    "even_numbers = np.arange(2, 20, 2)\n",
    "even_numbers"
   ]
  },
  {
   "attachments": {},
   "cell_type": "markdown",
   "metadata": {},
   "source": [
    "# Creating sequence of numbers using linspace"
   ]
  },
  {
   "cell_type": "code",
   "execution_count": 168,
   "metadata": {},
   "outputs": [
    {
     "data": {
      "text/plain": [
       "array([1.        , 1.44444444, 1.88888889, 2.33333333, 2.77777778,\n",
       "       3.22222222, 3.66666667, 4.11111111, 4.55555556, 5.        ])"
      ]
     },
     "execution_count": 168,
     "metadata": {},
     "output_type": "execute_result"
    }
   ],
   "source": [
    "# numpy.linspace()\n",
    "# numpy.logspace() in Python with Example\n",
    "# For instance, it can be used to create 10 values from 1 to 5 evenly spaced.\n",
    "np.linspace(1.0, 5.0, num=10)"
   ]
  },
  {
   "cell_type": "code",
   "execution_count": 169,
   "metadata": {},
   "outputs": [
    {
     "data": {
      "text/plain": [
       "array([1. , 1.8, 2.6, 3.4, 4.2])"
      ]
     },
     "execution_count": 169,
     "metadata": {},
     "output_type": "execute_result"
    }
   ],
   "source": [
    "# To exclude the last value in the interval eg here 5 will not be included\n",
    "np.linspace(1.0, 5.0, num=5, endpoint=False)"
   ]
  },
  {
   "cell_type": "code",
   "execution_count": 170,
   "metadata": {},
   "outputs": [
    {
     "data": {
      "text/plain": [
       "array([  100.        ,   464.15888336,  2154.43469003, 10000.        ])"
      ]
     },
     "execution_count": 170,
     "metadata": {},
     "output_type": "execute_result"
    }
   ],
   "source": [
    "# LogSpace\n",
    "# LogSpace returns even spaced numbers on a log scale. Logspace has the same parameters as np.linspace.\n",
    "\n",
    "# Syntax:\n",
    "\n",
    "# numpy.logspace(start, stop, num, endpoint)\n",
    "\n",
    "np.logspace(2, 4.0, num=4)"
   ]
  },
  {
   "cell_type": "code",
   "execution_count": 171,
   "metadata": {},
   "outputs": [
    {
     "data": {
      "text/plain": [
       "array([1.+0.j, 2.+0.j, 3.+0.j])"
      ]
     },
     "execution_count": 171,
     "metadata": {},
     "output_type": "execute_result"
    }
   ],
   "source": [
    "# to check the size of an array\n",
    "x = np.array([1,2,3], dtype=np.complex128)\n",
    "x"
   ]
  },
  {
   "cell_type": "code",
   "execution_count": 172,
   "metadata": {},
   "outputs": [
    {
     "data": {
      "text/plain": [
       "16"
      ]
     },
     "execution_count": 172,
     "metadata": {},
     "output_type": "execute_result"
    }
   ],
   "source": [
    "x.itemsize"
   ]
  },
  {
   "cell_type": "code",
   "execution_count": 173,
   "metadata": {},
   "outputs": [
    {
     "data": {
      "text/plain": [
       "array([[1, 2, 3],\n",
       "       [4, 5, 6]])"
      ]
     },
     "execution_count": 173,
     "metadata": {},
     "output_type": "execute_result"
    }
   ],
   "source": [
    "# indexing and Slicing NumPy Arrays in Python\n",
    "np_list = np.array([(1,2,3), (4,5,6)])\n",
    "np_list"
   ]
  },
  {
   "cell_type": "code",
   "execution_count": 174,
   "metadata": {},
   "outputs": [
    {
     "name": "stdout",
     "output_type": "stream",
     "text": [
      "First row:  [1 2 3]\n",
      "Second row:  [4 5 6]\n"
     ]
    }
   ],
   "source": [
    "print('First row: ', np_list[0])\n",
    "print('Second row: ', np_list[1])"
   ]
  },
  {
   "cell_type": "code",
   "execution_count": 175,
   "metadata": {},
   "outputs": [
    {
     "name": "stdout",
     "output_type": "stream",
     "text": [
      "First column:  [1 4]\n",
      "Second column:  [2 5]\n",
      "Third column:  [3 6]\n"
     ]
    }
   ],
   "source": [
    "print('First column: ', np_list[:,0])\n",
    "print('Second column: ', np_list[:,1])\n",
    "print('Third column: ', np_list[:,2])"
   ]
  },
  {
   "attachments": {},
   "cell_type": "markdown",
   "metadata": {},
   "source": [
    "# NumPy Statistical Functions with examples\n",
    "NumPy has quite useful statistical functions for finding minimum, maximum, mean, median, percentile,standard deviation and variance, etc from the given elements in the array. The functions are explained as follows −\n",
    "\n",
    "Statistical function: Numpy is equipped with the robust statistical function as listed below:\n",
    "\n",
    "Numpy Functions\n",
    "\n",
    "- Min: np.min()\n",
    "- Max: np.max()\n",
    "- Mean: np.mean()\n",
    "- Median: np.median()\n",
    "- Variance\n",
    "- Percentile\n",
    "- Standard deviation: np.std()\n"
   ]
  },
  {
   "cell_type": "code",
   "execution_count": 176,
   "metadata": {},
   "outputs": [
    {
     "name": "stdout",
     "output_type": "stream",
     "text": [
      "two dimensional array:  [[ 1  2  3]\n",
      " [ 4 55 44]\n",
      " [ 7  8  9]]\n",
      "min:  1\n",
      "max:  55\n",
      "mean:  14.777777777777779\n",
      "sd:  18.913709183069525\n"
     ]
    }
   ],
   "source": [
    "np_normal_dis = np.random.normal(5, 0.5, 100)\n",
    "np_normal_dis\n",
    "## min, max, mean, median, sd\n",
    "print('two dimensional array: ',two_dimension_array)\n",
    "print('min: ', two_dimension_array.min())\n",
    "print('max: ', two_dimension_array.max())\n",
    "print('mean: ',two_dimension_array.mean())\n",
    "# print('median: ', two_dimension_array.median())\n",
    "print('sd: ', two_dimension_array.std())"
   ]
  },
  {
   "cell_type": "code",
   "execution_count": 177,
   "metadata": {},
   "outputs": [
    {
     "name": "stdout",
     "output_type": "stream",
     "text": [
      "[[ 1  2  3]\n",
      " [ 4 55 44]\n",
      " [ 7  8  9]]\n",
      "Row with minimum:  [1 2 3]\n",
      "Row with maximum:  [ 7 55 44]\n",
      "=== Row ==\n",
      "Column with minimum:  [1 4 7]\n",
      "Column with maximum:  [ 3 55  9]\n"
     ]
    },
    {
     "data": {
      "text/plain": [
       "<function numpy.amax(a, axis=None, out=None, keepdims=<no value>, initial=<no value>, where=<no value>)>"
      ]
     },
     "execution_count": 177,
     "metadata": {},
     "output_type": "execute_result"
    }
   ],
   "source": [
    "print(two_dimension_array)\n",
    "print('Row with minimum: ', np.amin(two_dimension_array,axis=0))\n",
    "print('Row with maximum: ', np.amax(two_dimension_array,axis=0))\n",
    "print('=== Row ==')\n",
    "print('Column with minimum: ', np.amin(two_dimension_array,axis=1))\n",
    "print('Column with maximum: ', np.amax(two_dimension_array,axis=1))\n",
    "np.amax"
   ]
  },
  {
   "attachments": {},
   "cell_type": "markdown",
   "metadata": {},
   "source": [
    "# Creating repeating sequences"
   ]
  },
  {
   "cell_type": "code",
   "execution_count": 178,
   "metadata": {},
   "outputs": [
    {
     "name": "stdout",
     "output_type": "stream",
     "text": [
      "Tile: (entire)   [1 2 3 1 2 3]\n",
      "Repeat: (each element)  [1 1 2 2 3 3]\n"
     ]
    }
   ],
   "source": [
    "a = [1,2,3]\n",
    "\n",
    "# Repeat whole of 'a' two times\n",
    "print('Tile: (entire)  ', np.tile(a, 2))\n",
    "\n",
    "# Repeat each element of 'a' two times\n",
    "print('Repeat: (each element) ', np.repeat(a, 2))"
   ]
  },
  {
   "attachments": {},
   "cell_type": "markdown",
   "metadata": {},
   "source": [
    "# Generating random numbers"
   ]
  },
  {
   "cell_type": "code",
   "execution_count": 179,
   "metadata": {},
   "outputs": [
    {
     "name": "stdout",
     "output_type": "stream",
     "text": [
      "0.16100229603664873\n",
      "3\n"
     ]
    }
   ],
   "source": [
    "# One random number between [0,1)\n",
    "one_random_num = np.random.random()\n",
    "one_random_in = np.random.randint(2,5)\n",
    "print(one_random_num)\n",
    "print(one_random_in)"
   ]
  },
  {
   "cell_type": "code",
   "execution_count": 180,
   "metadata": {},
   "outputs": [
    {
     "name": "stdout",
     "output_type": "stream",
     "text": [
      "[[0.64024889 0.11780363 0.46416822]\n",
      " [0.95046282 0.72745596 0.06784753]]\n"
     ]
    }
   ],
   "source": [
    "# Random numbers between [0,1) of shape 2,3\n",
    "r = np.random.random(size=[2,3])\n",
    "print(r)"
   ]
  },
  {
   "cell_type": "code",
   "execution_count": 181,
   "metadata": {},
   "outputs": [
    {
     "name": "stdout",
     "output_type": "stream",
     "text": [
      "['a' 'o' 'e' 'o' 'a' 'i' 'i' 'o' 'a' 'i']\n"
     ]
    }
   ],
   "source": [
    "print(np.random.choice(['a', 'e', 'i', 'o', 'u'], size=10))"
   ]
  },
  {
   "cell_type": "code",
   "execution_count": 182,
   "metadata": {},
   "outputs": [
    {
     "data": {
      "text/plain": [
       "array([[0.91402684, 0.77086414],\n",
       "       [0.99200178, 0.80663949]])"
      ]
     },
     "execution_count": 182,
     "metadata": {},
     "output_type": "execute_result"
    }
   ],
   "source": [
    "## Random numbers between [0, 1] of shape 2, 2\n",
    "rand = np.random.rand(2,2)\n",
    "rand"
   ]
  },
  {
   "cell_type": "code",
   "execution_count": 183,
   "metadata": {},
   "outputs": [
    {
     "data": {
      "text/plain": [
       "array([[5, 0, 9],\n",
       "       [4, 7, 7],\n",
       "       [5, 8, 7],\n",
       "       [4, 4, 6],\n",
       "       [0, 9, 7]])"
      ]
     },
     "execution_count": 183,
     "metadata": {},
     "output_type": "execute_result"
    }
   ],
   "source": [
    "# Random integers between [0, 10) of shape 2,5\n",
    "rand_int = np.random.randint(0, 10, size=[5,3])\n",
    "rand_int"
   ]
  },
  {
   "cell_type": "code",
   "execution_count": 184,
   "metadata": {},
   "outputs": [
    {
     "name": "stdout",
     "output_type": "stream",
     "text": [
      "min:  3.6470887305288793\n",
      "max:  6.809949049585715\n",
      "mean:  4.986245160607126\n",
      "median:  4.981945148496157\n",
      "mode:  ModeResult(mode=array([3.64708873]), count=array([1]))\n",
      "sd:  0.48671014069637236\n"
     ]
    },
    {
     "name": "stderr",
     "output_type": "stream",
     "text": [
      "C:\\Users\\hp\\AppData\\Local\\Temp\\ipykernel_10976\\3056601742.py:9: FutureWarning: Unlike other reduction functions (e.g. `skew`, `kurtosis`), the default behavior of `mode` typically preserves the axis it acts along. In SciPy 1.11.0, this behavior will change: the default value of `keepdims` will become False, the `axis` over which the statistic is taken will be eliminated, and the value None will no longer be accepted. Set `keepdims` to True or False to avoid this warning.\n",
      "  print('mode: ', stats.mode(np_normal_dis))\n"
     ]
    }
   ],
   "source": [
    "from scipy import stats\n",
    "np_normal_dis = np.random.normal(5, 0.5, 1000)\n",
    "np_normal_dis\n",
    "## min, max, mean, median, sd\n",
    "print('min: ', np.min(np_normal_dis))\n",
    "print('max: ', np.max(np_normal_dis))\n",
    "print('mean: ', np.mean(np_normal_dis))\n",
    "print('median: ', np.median(np_normal_dis))\n",
    "print('mode: ', stats.mode(np_normal_dis))\n",
    "print('sd: ', np.std(np_normal_dis))"
   ]
  },
  {
   "cell_type": "code",
   "execution_count": 185,
   "metadata": {},
   "outputs": [
    {
     "data": {
      "image/png": "[encoded data removed]",
      "text/plain": [
       "<Figure size 640x480 with 1 Axes>"
      ]
     },
     "metadata": {},
     "output_type": "display_data"
    }
   ],
   "source": [
    "plt.hist(np_normal_dis, color=\"grey\", bins=21)\n",
    "plt.show()\n"
   ]
  },
  {
   "attachments": {},
   "cell_type": "markdown",
   "metadata": {},
   "source": [
    "numpy.dot(): Dot Product in Python using Numpy\n",
    "Dot Product Numpy is a powerful library for matrices computation. For instance, you can compute the dot product with np.dot\n",
    "\n",
    "Syntax\n",
    "\n",
    "numpy.dot(x, y, out=None)"
   ]
  },
  {
   "attachments": {},
   "cell_type": "markdown",
   "metadata": {},
   "source": [
    "# Linear Algebra"
   ]
  },
  {
   "cell_type": "code",
   "execution_count": 186,
   "metadata": {},
   "outputs": [
    {
     "data": {
      "text/plain": [
       "23"
      ]
     },
     "execution_count": 186,
     "metadata": {},
     "output_type": "execute_result"
    }
   ],
   "source": [
    "# Dot product\n",
    "## Linear algebra\n",
    "### Dot product: product of two arrays\n",
    "f = np.array([1,2,3])\n",
    "g = np.array([4,5,3])\n",
    "### 1*4+2*5 + 3*6\n",
    "np.dot(f, g)"
   ]
  },
  {
   "attachments": {},
   "cell_type": "markdown",
   "metadata": {},
   "source": [
    "# NumPy matrix multiplication with np.matmul()"
   ]
  },
  {
   "cell_type": "code",
   "execution_count": 187,
   "metadata": {},
   "outputs": [
    {
     "data": {
      "text/plain": [
       "array([[19, 22],\n",
       "       [43, 50]])"
      ]
     },
     "execution_count": 187,
     "metadata": {},
     "output_type": "execute_result"
    }
   ],
   "source": [
    "### Matmul: matrix product of two arrays\n",
    "h = [[1,2],[3,4]]\n",
    "i = [[5,6],[7,8]]\n",
    "### 1*5+2*7 = 19\n",
    "np.matmul(h, i)"
   ]
  },
  {
   "cell_type": "code",
   "execution_count": 188,
   "metadata": {},
   "outputs": [
    {
     "data": {
      "text/plain": [
       "-2.000000000000005"
      ]
     },
     "execution_count": 188,
     "metadata": {},
     "output_type": "execute_result"
    }
   ],
   "source": [
    "## Determinant 2*2 matrix\n",
    "### 5*8-7*6np.linalg.det(i)\n",
    "\n",
    "np.linalg.det(i)"
   ]
  },
  {
   "cell_type": "code",
   "execution_count": 189,
   "metadata": {},
   "outputs": [
    {
     "data": {
      "text/plain": [
       "array([[0., 1., 0., 1., 0., 1., 0., 1.],\n",
       "       [1., 0., 1., 0., 1., 0., 1., 0.],\n",
       "       [0., 1., 0., 1., 0., 1., 0., 1.],\n",
       "       [1., 0., 1., 0., 1., 0., 1., 0.],\n",
       "       [0., 1., 0., 1., 0., 1., 0., 1.],\n",
       "       [1., 0., 1., 0., 1., 0., 1., 0.],\n",
       "       [0., 1., 0., 1., 0., 1., 0., 1.],\n",
       "       [1., 0., 1., 0., 1., 0., 1., 0.]])"
      ]
     },
     "execution_count": 189,
     "metadata": {},
     "output_type": "execute_result"
    }
   ],
   "source": [
    "Z = np.zeros((8,8))\n",
    "Z[1::2,::2] = 1\n",
    "Z[::2,1::2] = 1\n",
    "Z"
   ]
  },
  {
   "cell_type": "code",
   "execution_count": 190,
   "metadata": {},
   "outputs": [
    {
     "data": {
      "text/plain": [
       "[2, 3, 4, 5, 6, 7, 8, 9, 10, 11, 12]"
      ]
     },
     "execution_count": 190,
     "metadata": {},
     "output_type": "execute_result"
    }
   ],
   "source": [
    "new_list = [ x + 2 for x in range(0, 11)]\n",
    "new_list"
   ]
  },
  {
   "cell_type": "code",
   "execution_count": 191,
   "metadata": {},
   "outputs": [
    {
     "data": {
      "text/plain": [
       "array([ 2,  3,  4,  5,  6,  7,  8,  9, 10, 11, 12])"
      ]
     },
     "execution_count": 191,
     "metadata": {},
     "output_type": "execute_result"
    }
   ],
   "source": [
    "np_arr = np.array(range(0, 11))\n",
    "np_arr + 2"
   ]
  },
  {
   "cell_type": "code",
   "execution_count": 192,
   "metadata": {},
   "outputs": [
    {
     "data": {
      "text/plain": [
       "array([ 7,  9, 11, 13, 15])"
      ]
     },
     "execution_count": 192,
     "metadata": {},
     "output_type": "execute_result"
    }
   ],
   "source": [
    "temp = np.array([1,2,3,4,5])\n",
    "pressure = temp * 2 + 5\n",
    "pressure"
   ]
  },
  {
   "cell_type": "code",
   "execution_count": 193,
   "metadata": {},
   "outputs": [
    {
     "data": {
      "image/png": "[encoded data removed]",
      "text/plain": [
       "<Figure size 640x480 with 1 Axes>"
      ]
     },
     "metadata": {},
     "output_type": "display_data"
    }
   ],
   "source": [
    "plt.plot(temp,pressure)\n",
    "plt.xlabel('Temperature in oC')\n",
    "plt.ylabel('Pressure in atm')\n",
    "plt.title('Temperature vs Pressure')\n",
    "plt.xticks(np.arange(0, 6, step=0.5))\n",
    "plt.show()"
   ]
  },
  {
   "attachments": {},
   "cell_type": "markdown",
   "metadata": {},
   "source": [
    "# Using NumPy to plot normal distribution (Gaussian distribution)\n",
    "To draw the Gaussian normal distribution using numpy, the mean(mu), sigma(standard deviation) and the number of data points need to be supplied"
   ]
  },
  {
   "cell_type": "code",
   "execution_count": 194,
   "metadata": {},
   "outputs": [
    {
     "data": {
      "image/png": "[encoded data removed]",
      "text/plain": [
       "<Figure size 640x480 with 1 Axes>"
      ]
     },
     "metadata": {},
     "output_type": "display_data"
    }
   ],
   "source": [
    "mu = 28\n",
    "sigma = 15\n",
    "samples = 100000\n",
    "\n",
    "x = np.random.normal(mu, sigma, samples)\n",
    "ax = sns.histplot(x);   # distplot has been deprecated, replaced by histplot and displot\n",
    "ax.set(xlabel=\"x\", ylabel='y')\n",
    "plt.show()"
   ]
  }
 ],
 "metadata": {
  "kernelspec": {
   "display_name": "venv",
   "language": "python",
   "name": "python3"
  },
  "language_info": {
   "codemirror_mode": {
    "name": "ipython",
    "version": 3
   },
   "file_extension": ".py",
   "mimetype": "text/x-python",
   "name": "python",
   "nbconvert_exporter": "python",
   "pygments_lexer": "ipython3",
   "version": "3.11.1"
  },
  "orig_nbformat": 4
 },
 "nbformat": 4,
 "nbformat_minor": 2
}
